{
 "cells": [
  {
   "cell_type": "code",
   "execution_count": 1,
   "id": "a8968eae",
   "metadata": {},
   "outputs": [],
   "source": [
    "from nltk.corpus import wordnet"
   ]
  },
  {
   "cell_type": "code",
   "execution_count": 83,
   "id": "4a849fbd",
   "metadata": {},
   "outputs": [],
   "source": [
    "syns = wordnet.synsets(\"water\")"
   ]
  },
  {
   "cell_type": "code",
   "execution_count": 84,
   "id": "9b202335",
   "metadata": {},
   "outputs": [
    {
     "data": {
      "text/plain": [
       "[Synset('water.n.01'),\n",
       " Synset('body_of_water.n.01'),\n",
       " Synset('water.n.03'),\n",
       " Synset('water_system.n.02'),\n",
       " Synset('urine.n.01'),\n",
       " Synset('water.n.06'),\n",
       " Synset('water.v.01'),\n",
       " Synset('water.v.02'),\n",
       " Synset('water.v.03'),\n",
       " Synset('water.v.04')]"
      ]
     },
     "execution_count": 84,
     "metadata": {},
     "output_type": "execute_result"
    }
   ],
   "source": [
    "syns"
   ]
  },
  {
   "cell_type": "code",
   "execution_count": 9,
   "id": "3ef9cd91",
   "metadata": {},
   "outputs": [
    {
     "name": "stdout",
     "output_type": "stream",
     "text": [
      "roast.n.01\n"
     ]
    }
   ],
   "source": [
    "# synset\n",
    "print(syns[0].name())"
   ]
  },
  {
   "cell_type": "code",
   "execution_count": 10,
   "id": "ed9d4ea3",
   "metadata": {},
   "outputs": [
    {
     "name": "stdout",
     "output_type": "stream",
     "text": [
      "[Lemma('roast.n.01.roast'), Lemma('roast.n.01.joint')]\n"
     ]
    }
   ],
   "source": [
    "print(syns[0].lemmas())"
   ]
  },
  {
   "cell_type": "code",
   "execution_count": 12,
   "id": "18d1b408",
   "metadata": {},
   "outputs": [
    {
     "name": "stdout",
     "output_type": "stream",
     "text": [
      "roast\n"
     ]
    }
   ],
   "source": [
    "# word\n",
    "print(syns[0].lemmas()[0].name())"
   ]
  },
  {
   "cell_type": "code",
   "execution_count": 86,
   "id": "42a9a323",
   "metadata": {},
   "outputs": [
    {
     "name": "stdout",
     "output_type": "stream",
     "text": [
      "supply with water, as with channels or ditches or streams\n"
     ]
    }
   ],
   "source": [
    "# definition\n",
    "print(syns[6].definition())"
   ]
  },
  {
   "cell_type": "code",
   "execution_count": 14,
   "id": "7744b34b",
   "metadata": {},
   "outputs": [
    {
     "name": "stdout",
     "output_type": "stream",
     "text": [
      "[]\n"
     ]
    }
   ],
   "source": [
    "# examples\n",
    "print(syns[0].examples())"
   ]
  },
  {
   "cell_type": "code",
   "execution_count": 53,
   "id": "93c545da",
   "metadata": {},
   "outputs": [
    {
     "name": "stdout",
     "output_type": "stream",
     "text": [
      "{'revenue', 'megascopic', 'egregious', 'sodding', 'stark', 'vulgar', 'earthy', 'crude', 'thoroughgoing', 'double-dyed', 'complete', '144', 'pure', 'gross', 'crying', 'arrant', 'utter', 'glaring', 'porcine', 'consummate', 'staring', 'everlasting', 'rank', 'unadulterated', 'flagrant', 'receipts', 'perfect'}\n",
      "{'net'}\n"
     ]
    }
   ],
   "source": [
    "synonyms = []\n",
    "antonyms = []\n",
    "\n",
    "for syn in wordnet.synsets(\"gross\"):\n",
    "    for l in syn.lemmas():\n",
    "        synonyms.append(l.name())\n",
    "        if l.antonyms():\n",
    "            antonyms.append(l.antonyms()[0].name())\n",
    "            \n",
    "print(set(synonyms))\n",
    "print(set(antonyms))"
   ]
  },
  {
   "cell_type": "code",
   "execution_count": 43,
   "id": "f8d3a154",
   "metadata": {},
   "outputs": [
    {
     "name": "stdout",
     "output_type": "stream",
     "text": [
      "0.8148148148148148\n"
     ]
    }
   ],
   "source": [
    "w1 = wordnet.synset(\"cat.n.01\")\n",
    "w2 = wordnet.synset(\"mouse.n.01\")\n",
    "\n",
    "print(w1.wup_similarity(w2))"
   ]
  },
  {
   "cell_type": "code",
   "execution_count": 89,
   "id": "b8ba10f1",
   "metadata": {},
   "outputs": [
    {
     "name": "stdout",
     "output_type": "stream",
     "text": [
      "Hypernyms:  {Synset('rodent.n.01')}\n",
      "Hyponyms:  {Synset('black_rat.n.01'), Synset('bandicoot_rat.n.01'), Synset('pocket_rat.n.01'), Synset('jerboa_rat.n.01'), Synset('brown_rat.n.01'), Synset('rice_rat.n.01')}\n"
     ]
    }
   ],
   "source": [
    "syn = wordnet.synsets('rat')[0]\n",
    "hypernyms = syn.hypernyms()\n",
    "hyponyms = syn.hyponyms()\n",
    "print(\"Hypernyms: \", set(hypernyms))\n",
    "print(\"Hyponyms: \", set(hyponyms))"
   ]
  },
  {
   "cell_type": "code",
   "execution_count": 90,
   "id": "96f6ce81",
   "metadata": {},
   "outputs": [
    {
     "name": "stdout",
     "output_type": "stream",
     "text": [
      "{'blackleg', 'denounce', 'snitch', 'squealer', 'shop', 'grass', 'stinker', 'skunk', 'informer', 'rotter', 'betray', 'crumb', 'scab', 'rat', 'bum', 'stag', 'scum_bag', 'betrayer', 'puke', 'blabber', 'git', 'give_away', 'tell_on', 'dirty_dog', 'strikebreaker', 'so-and-so', 'lowlife', 'shit', 'fink', 'stinkpot'}\n",
      "set()\n"
     ]
    }
   ],
   "source": [
    "# NOT GOOD\n",
    "\n",
    "hypernyms = []\n",
    "hyponyms = []\n",
    "\n",
    "for syn in wordnet.synsets(\"rat\"):\n",
    "    for l in syn.lemmas():\n",
    "        hypernyms.append(l.name())\n",
    "        if l.hyponyms():\n",
    "            hyponyms.append(l.hyponyms()[0].name())\n",
    "            \n",
    "print(set(hypernyms))\n",
    "print(set(hyponyms))"
   ]
  },
  {
   "cell_type": "code",
   "execution_count": null,
   "id": "0fe6cb9b",
   "metadata": {},
   "outputs": [],
   "source": []
  }
 ],
 "metadata": {
  "kernelspec": {
   "display_name": "Python 3 (ipykernel)",
   "language": "python",
   "name": "python3"
  },
  "language_info": {
   "codemirror_mode": {
    "name": "ipython",
    "version": 3
   },
   "file_extension": ".py",
   "mimetype": "text/x-python",
   "name": "python",
   "nbconvert_exporter": "python",
   "pygments_lexer": "ipython3",
   "version": "3.9.7"
  }
 },
 "nbformat": 4,
 "nbformat_minor": 5
}
